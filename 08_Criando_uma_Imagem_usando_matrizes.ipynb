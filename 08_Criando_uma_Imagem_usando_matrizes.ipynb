{
  "nbformat": 4,
  "nbformat_minor": 0,
  "metadata": {
    "colab": {
      "provenance": [],
      "authorship_tag": "ABX9TyOAw7YHESb/C+hkN8id0lb1",
      "include_colab_link": true
    },
    "kernelspec": {
      "name": "python3",
      "display_name": "Python 3"
    },
    "language_info": {
      "name": "python"
    }
  },
  "cells": [
    {
      "cell_type": "markdown",
      "metadata": {
        "id": "view-in-github",
        "colab_type": "text"
      },
      "source": [
        "<a href=\"https://colab.research.google.com/github/dilia-w/Visao-Computacional/blob/main/08_Criando_uma_Imagem_usando_matrizes.ipynb\" target=\"_parent\"><img src=\"https://colab.research.google.com/assets/colab-badge.svg\" alt=\"Open In Colab\"/></a>"
      ]
    },
    {
      "cell_type": "code",
      "execution_count": 1,
      "metadata": {
        "colab": {
          "base_uri": "https://localhost:8080/",
          "height": 356
        },
        "id": "ZrdjT017g8dW",
        "outputId": "e2a81b4b-45be-4444-f533-4deb51d2b057"
      },
      "outputs": [
        {
          "output_type": "display_data",
          "data": {
            "text/plain": [
              "<Figure size 640x480 with 1 Axes>"
            ],
            "image/png": "[encoded data removed]"
          },
          "metadata": {}
        }
      ],
      "source": [
        "import numpy as np\n",
        "import cv2\n",
        "import matplotlib.pyplot as plt\n",
        "\n",
        "# Criando uma matriz de zeros\n",
        "image = np.zeros((256, 256), dtype=np.uint8)\n",
        "\n",
        "# Indicando um intervalo de Pixels\n",
        "x1, y1 = 64, 64\n",
        "x2, y2 = 192, 192\n",
        "\n",
        "# Convertendo o intervalo de valores da matriz de 0 para 255\n",
        "image[y1:y2, x1:x2] = 255\n",
        "\n",
        "# Apresentando a imagem\n",
        "plt.subplot(1, 2, 1)\n",
        "plt.imshow(image, cmap='gray')\n",
        "plt.title('Imagem Original')\n",
        "plt.axis('off')\n",
        "plt.tight_layout()\n",
        "plt.show()\n"
      ]
    }
  ]
}