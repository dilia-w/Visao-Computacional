{
  "nbformat": 4,
  "nbformat_minor": 0,
  "metadata": {
    "colab": {
      "provenance": [],
      "authorship_tag": "ABX9TyMw9QeOj/WGdJAvfeLvcFeD",
      "include_colab_link": true
    },
    "kernelspec": {
      "name": "python3",
      "display_name": "Python 3"
    },
    "language_info": {
      "name": "python"
    }
  },
  "cells": [
    {
      "cell_type": "markdown",
      "metadata": {
        "id": "view-in-github",
        "colab_type": "text"
      },
      "source": [
        "<a href=\"https://colab.research.google.com/github/dilia-w/Visao-Computacional/blob/main/06_Filtro_Laplaciano.ipynb\" target=\"_parent\"><img src=\"https://colab.research.google.com/assets/colab-badge.svg\" alt=\"Open In Colab\"/></a>"
      ]
    },
    {
      "cell_type": "code",
      "execution_count": 1,
      "metadata": {
        "colab": {
          "base_uri": "https://localhost:8080/",
          "height": 356
        },
        "id": "cBkhDC2rmggk",
        "outputId": "eff859f4-0343-4cde-9fee-9d4272e121a9"
      },
      "outputs": [
        {
          "output_type": "display_data",
          "data": {
            "text/plain": [
              "<Figure size 640x700 with 2 Axes>"
            ],
            "image/png": "[encoded data removed]"
          },
          "metadata": {}
        }
      ],
      "source": [
        "import cv2\n",
        "import numpy as np\n",
        "import matplotlib.pyplot as plt\n",
        "\n",
        "imagem = np.zeros((256, 256), dtype=np.uint8)\n",
        "x1, y1 = 64, 64\n",
        "x2, y2 = 192, 192\n",
        "imagem[y1:y2, x1:x2] = 255\n",
        "\n",
        "laplacian = cv2.Laplacian(imagem, cv2.CV_64F)\n",
        "laplacian = cv2.convertScaleAbs(laplacian)\n",
        "\n",
        "plt.figure(figsize=(6.4, 7))\n",
        "\n",
        "plt.subplot(1, 2, 1)\n",
        "plt.imshow(imagem, cmap='gray')\n",
        "plt.title('Imagem Original')\n",
        "plt.axis('off')\n",
        "\n",
        "plt.subplot(1, 2, 2)\n",
        "plt.imshow(laplacian, cmap='gray')\n",
        "plt.title('Filtro (Laplaciano)')\n",
        "plt.axis('off')\n",
        "\n",
        "plt.tight_layout()\n",
        "plt.show()\n"
      ]
    }
  ]
}