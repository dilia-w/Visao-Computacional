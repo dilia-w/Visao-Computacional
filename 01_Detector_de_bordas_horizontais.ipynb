{
  "nbformat": 4,
  "nbformat_minor": 0,
  "metadata": {
    "colab": {
      "provenance": [],
      "authorship_tag": "ABX9TyNPh5CDT4N1FwHUfbGPDEnW",
      "include_colab_link": true
    },
    "kernelspec": {
      "name": "python3",
      "display_name": "Python 3"
    },
    "language_info": {
      "name": "python"
    }
  },
  "cells": [
    {
      "cell_type": "markdown",
      "metadata": {
        "id": "view-in-github",
        "colab_type": "text"
      },
      "source": [
        "<a href=\"https://colab.research.google.com/github/dilia-w/Visao-Computacional/blob/main/01_Detector_de_bordas_horizontais.ipynb\" target=\"_parent\"><img src=\"https://colab.research.google.com/assets/colab-badge.svg\" alt=\"Open In Colab\"/></a>"
      ]
    },
    {
      "cell_type": "code",
      "execution_count": null,
      "metadata": {
        "colab": {
          "base_uri": "https://localhost:8080/",
          "height": 356
        },
        "id": "zc3XqjtxlDyC",
        "outputId": "bfd51f31-dc0b-4950-bceb-0a83ec40ec32"
      },
      "outputs": [
        {
          "output_type": "display_data",
          "data": {
            "text/plain": [
              "<Figure size 640x480 with 2 Axes>"
            ],
            "image/png": "[encoded data removed]"
          },
          "metadata": {}
        }
      ],
      "source": [
        "import cv2\n",
        "import numpy as np\n",
        "from scipy import signal\n",
        "import matplotlib.pyplot as plt\n",
        "\n",
        "imagem = np.zeros((256, 256), dtype=np.uint8)\n",
        "x1, y1 = 64, 64\n",
        "x2, y2 = 192, 192\n",
        "imagem[y1:y2, x1:x2] = 255\n",
        "\n",
        "filtro = np.array([[ 1, 1, 1],\n",
        "                   [ 0, 0, 0],\n",
        "                   [-1, -1, -1]])\n",
        "\n",
        "imagem_filtrada2 = signal.convolve2d(imagem, filtro, 'valid')\n",
        "\n",
        "plt.subplot(1, 2, 1)\n",
        "plt.imshow(imagem, cmap='gray')\n",
        "plt.title('Imagem Original')\n",
        "plt.axis('off')\n",
        "\n",
        "plt.subplot(1, 2, 2)\n",
        "plt.imshow(imagem_filtrada2, cmap='gray')\n",
        "plt.title('Imagem Filtrada')\n",
        "plt.axis('off')\n",
        "\n",
        "plt.tight_layout()\n",
        "plt.show()\n"
      ]
    }
  ]
}