{
  "nbformat": 4,
  "nbformat_minor": 0,
  "metadata": {
    "colab": {
      "provenance": [],
      "authorship_tag": "ABX9TyNhLzAesNH9ws47cVVZkZml",
      "include_colab_link": true
    },
    "kernelspec": {
      "name": "python3",
      "display_name": "Python 3"
    },
    "language_info": {
      "name": "python"
    }
  },
  "cells": [
    {
      "cell_type": "markdown",
      "metadata": {
        "id": "view-in-github",
        "colab_type": "text"
      },
      "source": [
        "<a href=\"https://colab.research.google.com/github/dilia-w/Visao-Computacional/blob/main/02_Detector_de_bordas_verticais.ipynb\" target=\"_parent\"><img src=\"https://colab.research.google.com/assets/colab-badge.svg\" alt=\"Open In Colab\"/></a>"
      ]
    },
    {
      "cell_type": "code",
      "execution_count": 1,
      "metadata": {
        "colab": {
          "base_uri": "https://localhost:8080/",
          "height": 356
        },
        "id": "YJ5olWP0lXtB",
        "outputId": "d4e0a72d-dabe-428b-d33b-83bab5616098"
      },
      "outputs": [
        {
          "output_type": "display_data",
          "data": {
            "text/plain": [
              "<Figure size 640x480 with 2 Axes>"
            ],
            "image/png": "[encoded data removed]"
          },
          "metadata": {}
        }
      ],
      "source": [
        "import cv2\n",
        "import numpy as np\n",
        "from scipy import signal\n",
        "import matplotlib.pyplot as plt\n",
        "\n",
        "imagem = np.zeros((256, 256), dtype=np.uint8)\n",
        "x1, y1 = 64, 64\n",
        "x2, y2 = 192, 192\n",
        "imagem[y1:y2, x1:x2] = 255\n",
        "\n",
        "filtro = np.array([[-1, 0, 1],\n",
        "                   [-1, 0, 1],\n",
        "                   [-1, 0, 1]])\n",
        "\n",
        "imagem_filtrada3 = signal.convolve2d(imagem, filtro, 'valid')\n",
        "\n",
        "plt.subplot(1, 2, 1)\n",
        "plt.imshow(imagem, cmap='gray')\n",
        "plt.title('Imagem Original')\n",
        "plt.axis('off')\n",
        "\n",
        "plt.subplot(1, 2, 2)\n",
        "plt.imshow(imagem_filtrada3, cmap='gray')\n",
        "plt.title('Imagem Filtrada')\n",
        "plt.axis('off')\n",
        "\n",
        "plt.tight_layout()\n",
        "plt.show()\n"
      ]
    }
  ]
}