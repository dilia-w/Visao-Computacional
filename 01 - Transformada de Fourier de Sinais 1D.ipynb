```
import cv2
import matplotlib.pyplot as plt

# Lê a imagem em escala de cinza
imagem = cv2.imread('felix.jpg', cv2.IMREAD_GRAYSCALE)

# Cria uma nova figura
plt.figure()

# Plota a imagem original
plt.subplot(1, 2, 1)
plt.imshow(imagem, cmap='gray', vmin=0, vmax=255)
plt.title('Imagem Original')
plt.axis('off')

# Plota o histograma da imagem original
plt.subplot(1, 2, 2)
plt.hist(imagem.ravel(), bins=256, range=(0, 255), color='gray')
plt.title('Histograma da Imagem Original')
plt.xlabel('Níveis de Intensidade')
plt.ylabel('Frequência')
plt.xlim(0, 255)

# Ajusta o layout da figura
plt.tight_layout()

# Mostra a figura
plt.show()
```
