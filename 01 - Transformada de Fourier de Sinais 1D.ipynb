import numpy as np
import matplotlib.pyplot as plt
from scipy.fft import fft, fftfreq

# Parâmetros do sinal
amplitude = 1.0  # Amplitude do sinal
frequencia = 10  # Frequência do sinal em Hz
tempo_total = .5  # Duração total do sinal em segundos
amostragem = 100  # Taxa de amostragem em Hz

# Gerar vetor de tempo
tempo = np.linspace(0, tempo_total, int(tempo_total * amostragem), endpoint=False

# Gerar sinal senoidal 
sinal = amplitude * np.sin(2 * np.pi * frequencia * tempo)

# Calcular a transformada de Fourier do sinal
transformada = fft(sinal)
frequencias = np.linspace(0.0, 1.0 / (2.0 * tempo_total), len(transformada)) * amostragem

# Plotar o sinal no tempo
plt.figure()
plt.subplot(2, 1, 1)
plt.plot(tempo, sinal)
plt.xlabel('Tempo (s)')
plt.ylabel('Amplitude')
plt.title('Sinal no Tempo')

# Plotar a transformada de Fourier
plt.subplot(2, 1, 2)
plt.plot(frequencias, np.abs(transformada))
plt.xlabel('Frequência (Hz)')
plt.ylabel('Amplitude')
plt.title('Transformada de Fourier do Sinal')

# Exibir os gráficos
plt.tight_layout()
plt.show()
