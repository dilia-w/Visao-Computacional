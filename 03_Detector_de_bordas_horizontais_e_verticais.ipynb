{
  "nbformat": 4,
  "nbformat_minor": 0,
  "metadata": {
    "colab": {
      "provenance": [],
      "authorship_tag": "ABX9TyMIIr/lkDi4Ffk6ShZ5XAp+",
      "include_colab_link": true
    },
    "kernelspec": {
      "name": "python3",
      "display_name": "Python 3"
    },
    "language_info": {
      "name": "python"
    }
  },
  "cells": [
    {
      "cell_type": "markdown",
      "metadata": {
        "id": "view-in-github",
        "colab_type": "text"
      },
      "source": [
        "<a href=\"https://colab.research.google.com/github/dilia-w/Visao-Computacional/blob/main/03_Detector_de_bordas_horizontais_e_verticais.ipynb\" target=\"_parent\"><img src=\"https://colab.research.google.com/assets/colab-badge.svg\" alt=\"Open In Colab\"/></a>"
      ]
    },
    {
      "cell_type": "code",
      "execution_count": null,
      "metadata": {
        "id": "7OII9Kiulso3"
      },
      "outputs": [],
      "source": [
        "import cv2\n",
        "import numpy as np\n",
        "from scipy import signal\n",
        "import matplotlib.pyplot as plt\n",
        "\n",
        "imagem = np.zeros((256, 256), dtype=np.uint8)\n",
        "x1, y1 = 64, 64\n",
        "x2, y2 = 192, 192\n",
        "imagem[y1:y2, x1:x2] = 255\n",
        "\n",
        "filtro = np.array([[ 0, -1,  0],\n",
        "                   [-1,  4, -1],\n",
        "                   [ 0, -1,  0]])\n",
        "\n",
        "imagem_filtrada1 = signal.convolve2d(imagem, filtro, 'valid')\n",
        "\n",
        "plt.subplot(1, 2, 1)\n",
        "plt.imshow(imagem, cmap='gray')\n",
        "plt.title('Imagem Original')\n",
        "plt.axis('off')\n",
        "\n",
        "plt.subplot(1, 2, 2)\n",
        "plt.imshow(imagem_filtrada1, cmap='gray')\n",
        "plt.title('Imagem Filtrada')\n",
        "plt.axis('off')\n",
        "\n",
        "plt.tight_layout()\n",
        "plt.show()\n"
      ]
    }
  ]
}